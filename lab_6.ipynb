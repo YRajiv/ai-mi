{
  "nbformat": 4,
  "nbformat_minor": 0,
  "metadata": {
    "colab": {
      "provenance": [],
      "authorship_tag": "ABX9TyPBnuEs0fW5wDeVCzFxFD5l",
      "include_colab_link": true
    },
    "kernelspec": {
      "name": "python3",
      "display_name": "Python 3"
    },
    "language_info": {
      "name": "python"
    }
  },
  "cells": [
    {
      "cell_type": "markdown",
      "metadata": {
        "id": "view-in-github",
        "colab_type": "text"
      },
      "source": [
        "<a href=\"https://colab.research.google.com/github/YRajiv/ai-mi/blob/main/lab_6.ipynb\" target=\"_parent\"><img src=\"https://colab.research.google.com/assets/colab-badge.svg\" alt=\"Open In Colab\"/></a>"
      ]
    },
    {
      "cell_type": "code",
      "execution_count": null,
      "metadata": {
        "id": "bgbkkSQ-SN8y"
      },
      "outputs": [],
      "source": [
        "import pandas as pd\n",
        "import seaborn as sns\n",
        "import matplotlib.pypl ot as plt\n",
        "import numpy as np\n",
        "%matplotlib inline\n",
        "\n",
        "df = pd.read_table(\"Classified_Data.txt\",sep=',', index_col=0)\n",
        "df.head()"
      ]
    },
    {
      "cell_type": "code",
      "source": [
        "df.info()"
      ],
      "metadata": {
        "id": "mY6oIAYqSXen"
      },
      "execution_count": null,
      "outputs": []
    },
    {
      "cell_type": "code",
      "source": [
        "df.describe()"
      ],
      "metadata": {
        "id": "crjsnKdiSfa5"
      },
      "execution_count": null,
      "outputs": []
    },
    {
      "cell_type": "code",
      "source": [
        "l=list(df.columns)\n",
        "l[0:len(l)-2]"
      ],
      "metadata": {
        "id": "rDhYkNLUSkTb"
      },
      "execution_count": null,
      "outputs": []
    },
    {
      "cell_type": "code",
      "source": [
        "sns.pairplot(df)"
      ],
      "metadata": {
        "id": "yLMoFSIoSpXh"
      },
      "execution_count": null,
      "outputs": []
    },
    {
      "cell_type": "code",
      "source": [
        "for i in range(len(l)-1):\n",
        "    sns.boxplot(x='TARGET CLASS',y=l[i], data=df)\n",
        "    plt.figure()"
      ],
      "metadata": {
        "id": "g-FGb4whS4Ja"
      },
      "execution_count": null,
      "outputs": []
    },
    {
      "cell_type": "code",
      "source": [
        "from sklearn.preprocessing import StandardScaler\n",
        "scaler = StandardScaler()"
      ],
      "metadata": {
        "id": "h8K0GtMeS9rL"
      },
      "execution_count": null,
      "outputs": []
    },
    {
      "cell_type": "code",
      "source": [
        "scaler.fit(df.drop('TARGET CLASS',axis=1))\n",
        "scaled_features = scaler.transform(df.drop('TARGET CLASS',axis=1))"
      ],
      "metadata": {
        "id": "49wors_2TEuK"
      },
      "execution_count": null,
      "outputs": []
    },
    {
      "cell_type": "code",
      "source": [
        "df_feat = pd.DataFrame(scaled_features,columns=df.columns[:-1])\n",
        "df_feat.head()"
      ],
      "metadata": {
        "id": "S2-N0dL0TNBe"
      },
      "execution_count": null,
      "outputs": []
    },
    {
      "cell_type": "code",
      "source": [
        "from sklearn.model_selection import train_test_split\n",
        "X = df_feat\n",
        "y = df['TARGET CLASS']\n",
        "X_train, X_test, y_train, y_test =train_test_split(scaled_features,df['TARGET CLASS'],\n",
        "                 test_size=0.20, random_state=101)"
      ],
      "metadata": {
        "id": "swo2M5F2TR7I"
      },
      "execution_count": null,
      "outputs": []
    },
    {
      "cell_type": "code",
      "source": [
        "from sklearn.neighbors import KNeighborsClassifier\n",
        "knn = KNeighborsClassifier(n_neighbors=1)\n",
        "knn.fit(X_train,y_train)"
      ],
      "metadata": {
        "id": "GnNcNqEATTDk"
      },
      "execution_count": null,
      "outputs": []
    },
    {
      "cell_type": "code",
      "source": [
        "pred = knn.predict(X_test)"
      ],
      "metadata": {
        "id": "9ZWxX7AmTWn4"
      },
      "execution_count": null,
      "outputs": []
    },
    {
      "cell_type": "code",
      "source": [
        "from sklearn.metrics import classification_report,confusion_matrix\n",
        "conf_mat=confusion_matrix(y_test,pred)\n",
        "print(conf_mat)"
      ],
      "metadata": {
        "id": "S4oSpgoKTara"
      },
      "execution_count": null,
      "outputs": []
    },
    {
      "cell_type": "code",
      "source": [
        "print(classification_report(y_test,pred))"
      ],
      "metadata": {
        "id": "2nI08rbxTfb6"
      },
      "execution_count": null,
      "outputs": []
    },
    {
      "cell_type": "code",
      "source": [
        "print(\"Misclassification error rate:\",round(np.mean(pred!=y_test),3))"
      ],
      "metadata": {
        "id": "krNhNVPPTjzc"
      },
      "execution_count": null,
      "outputs": []
    },
    {
      "cell_type": "code",
      "source": [
        "error_rate = []\n",
        "\n",
        "# Will take some time\n",
        "for i in range(1,60):\n",
        "\n",
        "    knn = KNeighborsClassifier(n_neighbors=i)\n",
        "    knn.fit(X_train,y_train)\n",
        "    pred_i = knn.predict(X_test)\n",
        "    error_rate.append(np.mean(pred_i != y_test))"
      ],
      "metadata": {
        "id": "cQ3L_GRNTnt9"
      },
      "execution_count": null,
      "outputs": []
    },
    {
      "cell_type": "code",
      "source": [
        "plt.figure(figsize=(10,6))\n",
        "plt.plot(range(1,60),error_rate,color='blue', linestyle='dashed', marker='o',\n",
        "         markerfacecolor='red', markersize=8)\n",
        "plt.title('Error Rate vs. K Value', fontsize=20)\n",
        "plt.xlabel('K',fontsize=15)\n",
        "plt.ylabel('Error (misclassification) Rate',fontsize=15)"
      ],
      "metadata": {
        "id": "hmxaPtK8TsEp"
      },
      "execution_count": null,
      "outputs": []
    }
  ]
}