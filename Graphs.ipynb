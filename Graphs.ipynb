{
  "nbformat": 4,
  "nbformat_minor": 0,
  "metadata": {
    "colab": {
      "provenance": [],
      "authorship_tag": "ABX9TyPLzLyYe0z9LyrFxjp2eZXD",
      "include_colab_link": true
    },
    "kernelspec": {
      "name": "python3",
      "display_name": "Python 3"
    },
    "language_info": {
      "name": "python"
    }
  },
  "cells": [
    {
      "cell_type": "markdown",
      "metadata": {
        "id": "view-in-github",
        "colab_type": "text"
      },
      "source": [
        "<a href=\"https://colab.research.google.com/github/YRajiv/ai-mi/blob/main/Graphs.ipynb\" target=\"_parent\"><img src=\"https://colab.research.google.com/assets/colab-badge.svg\" alt=\"Open In Colab\"/></a>"
      ]
    },
    {
      "cell_type": "code",
      "execution_count": 10,
      "metadata": {
        "colab": {
          "base_uri": "https://localhost:8080/"
        },
        "id": "pJB_AY5H3Wv6",
        "outputId": "4431d7cb-c720-40c8-f132-d843571cade6"
      },
      "outputs": [
        {
          "output_type": "stream",
          "name": "stdout",
          "text": [
            "BFS traversal of graph with source 1 is:\n",
            "1 0 2 3 5 6 4 7 "
          ]
        }
      ],
      "source": [
        "from queue import Queue\n",
        "\n",
        "graph = {\n",
        "    0:[1,2,3],\n",
        "    1: [0,2],\n",
        "    2: [1,3,5],\n",
        "    3: [6,2,4],\n",
        "    4: [3,5,7],\n",
        "    5: [2,4,6,7],\n",
        "    6: [5,7],\n",
        "    7:[]\n",
        "}\n",
        "\n",
        "def bfs(graph, source):\n",
        "  Q = Queue()\n",
        "  visited_vertices = set()\n",
        "  Q.put(source)\n",
        "  visited_vertices.add(source)\n",
        "  while not Q.empty():\n",
        "    vertex = Q.get()\n",
        "    print(vertex, end=' ')\n",
        "    for u in graph[vertex]:\n",
        "      if u not in visited_vertices:\n",
        "        Q.put(u)\n",
        "        visited_vertices.add(u)\n",
        "\n",
        "print(\"BFS traversal of graph with source 1 is:\")\n",
        "bfs(graph, 1)"
      ]
    },
    {
      "cell_type": "code",
      "source": [
        "graph1={\n",
        "    'A':['B','S'],\n",
        "    'B':['A'],\n",
        "    'S':['A','C','G'],\n",
        "    'G':['S','F','H'],\n",
        "    'H':['G','E'],\n",
        "    'E':['D','H','F'],\n",
        "    'F':['C','G'],\n",
        "    'C':['S','E','D','F'],\n",
        "    'D':['C']\n",
        "}\n",
        "def dfs(graph1,node,visited):\n",
        "  if node not in visited:\n",
        "    print(node,end=' ')\n",
        "    visited.add(node)\n",
        "    for k in graph1[node]:\n",
        "      dfs(graph1,k,visited)\n",
        "  return visited\n",
        "visited=dfs(graph1,'A',set())\n",
        "print(visited)"
      ],
      "metadata": {
        "colab": {
          "base_uri": "https://localhost:8080/"
        },
        "id": "yE9DnbZYEDrH",
        "outputId": "e28d2ccb-8578-4034-b525-0b488f339c05"
      },
      "execution_count": 19,
      "outputs": [
        {
          "output_type": "stream",
          "name": "stdout",
          "text": [
            "A B S C E D H G F {'A', 'G', 'H', 'S', 'D', 'C', 'B', 'F', 'E'}\n"
          ]
        }
      ]
    }
  ]
}